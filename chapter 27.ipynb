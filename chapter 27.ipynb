{
 "cells": [
  {
   "cell_type": "code",
   "execution_count": 2,
   "metadata": {},
   "outputs": [
    {
     "name": "stdout",
     "output_type": "stream",
     "text": [
      "ID for kamran is 05-2015\n",
      "kamran 05-2015\n",
      "zain 1200-2015\n",
      "saad 1300-2015\n"
     ]
    }
   ],
   "source": [
    "Names = {\n",
    "    \n",
    "    \"kamran\": \"05-2015\",\n",
    "    \"zain\": \"1200-2015\",\n",
    "    \"saad\": \"1300-2015\"\n",
    "\n",
    "}\n",
    "\n",
    "print(\"ID for kamran is \" + Names[\"kamran\"])\n",
    "\n",
    "for k,v in Names.items():\n",
    "    print(k,v)"
   ]
  },
  {
   "cell_type": "code",
   "execution_count": null,
   "metadata": {},
   "outputs": [],
   "source": []
  }
 ],
 "metadata": {
  "kernelspec": {
   "display_name": "Python 3",
   "language": "python",
   "name": "python3"
  },
  "language_info": {
   "codemirror_mode": {
    "name": "ipython",
    "version": 3
   },
   "file_extension": ".py",
   "mimetype": "text/x-python",
   "name": "python",
   "nbconvert_exporter": "python",
   "pygments_lexer": "ipython3",
   "version": "3.6.5"
  }
 },
 "nbformat": 4,
 "nbformat_minor": 2
}
