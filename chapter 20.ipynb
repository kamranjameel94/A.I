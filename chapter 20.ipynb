{
 "cells": [
  {
   "cell_type": "code",
   "execution_count": 1,
   "metadata": {},
   "outputs": [
    {
     "name": "stdout",
     "output_type": "stream",
     "text": [
      "('Karachi', 'multan', 'iraq', 'kuwait')\n",
      "City Name:Karachi\n",
      "City Name:multan\n",
      "City Name:iraq\n",
      "City Name:kuwait\n"
     ]
    }
   ],
   "source": [
    "#Defining a Tuple \n",
    "Tuple1 = (\"Karachi\", \"multan\", \"iraq\", \"kuwait\"); \n",
    "print (Tuple1);\n",
    "\n",
    "#Print using for loop\n",
    "for a in Tuple1: \n",
    "    print(\"City Name:\" + a);"
   ]
  },
  {
   "cell_type": "code",
   "execution_count": null,
   "metadata": {},
   "outputs": [],
   "source": []
  }
 ],
 "metadata": {
  "kernelspec": {
   "display_name": "Python 3",
   "language": "python",
   "name": "python3"
  },
  "language_info": {
   "codemirror_mode": {
    "name": "ipython",
    "version": 3
   },
   "file_extension": ".py",
   "mimetype": "text/x-python",
   "name": "python",
   "nbconvert_exporter": "python",
   "pygments_lexer": "ipython3",
   "version": "3.6.5"
  }
 },
 "nbformat": 4,
 "nbformat_minor": 2
}
