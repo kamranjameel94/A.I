{
 "cells": [
  {
   "cell_type": "code",
   "execution_count": 1,
   "metadata": {},
   "outputs": [
    {
     "name": "stdout",
     "output_type": "stream",
     "text": [
      "hello , world!\n"
     ]
    }
   ],
   "source": [
    "greeting = \"hello , world!\"\n",
    "print(greeting)"
   ]
  },
  {
   "cell_type": "code",
   "execution_count": 2,
   "metadata": {},
   "outputs": [
    {
     "name": "stdout",
     "output_type": "stream",
     "text": [
      "kamranjameel\n"
     ]
    }
   ],
   "source": [
    "greeting = \"kamran\"\n",
    "address = \"jameel\"\n",
    "whole_greeting = greeting + address\n",
    "print(whole_greeting)"
   ]
  },
  {
   "cell_type": "code",
   "execution_count": 3,
   "metadata": {},
   "outputs": [
    {
     "name": "stdout",
     "output_type": "stream",
     "text": [
      "kamran,jameel!\n"
     ]
    }
   ],
   "source": [
    "greeting = \"kamran\"\n",
    "separators = \",\"\n",
    "addresse = \"jameel\"\n",
    "punc = \"!\"\n",
    "whole_greeting = greeting + separators + addresse + punc\n",
    "print(whole_greeting)"
   ]
  },
  {
   "cell_type": "code",
   "execution_count": 8,
   "metadata": {},
   "outputs": [
    {
     "name": "stdout",
     "output_type": "stream",
     "text": [
      "hello,world!\n"
     ]
    }
   ],
   "source": [
    "whole_greeting = \"hello,\" + \"world!\"\n",
    "whole_greeting = \"hello\" + separators + \"world\" + punc\n",
    "print(\"hello,\" + \"world!\")"
   ]
  },
  {
   "cell_type": "code",
   "execution_count": 10,
   "metadata": {},
   "outputs": [
    {
     "name": "stdout",
     "output_type": "stream",
     "text": [
      "the sum of 2 plus 2 is4\n"
     ]
    }
   ],
   "source": [
    "print(\"the sum of 2 plus 2 is\" +\"4\" )"
   ]
  }
 ],
 "metadata": {
  "kernelspec": {
   "display_name": "Python 3",
   "language": "python",
   "name": "python3"
  },
  "language_info": {
   "codemirror_mode": {
    "name": "ipython",
    "version": 3
   },
   "file_extension": ".py",
   "mimetype": "text/x-python",
   "name": "python",
   "nbconvert_exporter": "python",
   "pygments_lexer": "ipython3",
   "version": "3.6.5"
  }
 },
 "nbformat": 4,
 "nbformat_minor": 2
}
