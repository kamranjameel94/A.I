{
 "cells": [
  {
   "cell_type": "code",
   "execution_count": 1,
   "metadata": {},
   "outputs": [
    {
     "name": "stdout",
     "output_type": "stream",
     "text": [
      "[{'customer id': 0, 'first name': 'kamran', 'last name': 'jameel', 'address': 'orangi'}, {'customer id': 1, 'first name': 'zain', 'last name': 'khan', 'address': 'nazimabad'}, {'customer id': 2, 'first name': 'shoaib', 'last name': 'saeed', 'address': 'laandhi'}]\n"
     ]
    }
   ],
   "source": [
    "customers = [\n",
    "    {\n",
    "         \"customer id\": 0,\n",
    "         \"first name\":\"kamran\",\n",
    "         \"last name\": \"jameel\",\n",
    "         \"address\": \"orangi\", \n",
    "    },\n",
    "    {\n",
    "        \"customer id\": 1,\n",
    "        \"first name\":\"zain\",\n",
    "        \"last name\": \"khan\",\n",
    "        \"address\": \"nazimabad\", \n",
    "    },\n",
    "    {\n",
    "        \"customer id\": 2, \n",
    "        \"first name\":\"shoaib\",\n",
    "        \"last name\": \"saeed\",\n",
    "        \"address\": \"laandhi\", \n",
    "    },]\n",
    "\n",
    "print(str(customers))"
   ]
  },
  {
   "cell_type": "code",
   "execution_count": null,
   "metadata": {},
   "outputs": [],
   "source": []
  }
 ],
 "metadata": {
  "kernelspec": {
   "display_name": "Python 3",
   "language": "python",
   "name": "python3"
  },
  "language_info": {
   "codemirror_mode": {
    "name": "ipython",
    "version": 3
   },
   "file_extension": ".py",
   "mimetype": "text/x-python",
   "name": "python",
   "nbconvert_exporter": "python",
   "pygments_lexer": "ipython3",
   "version": "3.6.5"
  }
 },
 "nbformat": 4,
 "nbformat_minor": 2
}
