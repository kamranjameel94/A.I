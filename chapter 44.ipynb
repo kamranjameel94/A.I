{
 "cells": [
  {
   "cell_type": "code",
   "execution_count": 1,
   "metadata": {},
   "outputs": [
    {
     "name": "stdout",
     "output_type": "stream",
     "text": [
      "kamran is from Pakistan\n",
      "kamran is from new york\n"
     ]
    }
   ],
   "source": [
    "def NameFunc(Name,Country):\n",
    "    print (Name + \" is from \" + Country)\n",
    "    \n",
    "NameFunc(\"kamran\", \"Pakistan\")\n",
    "\n",
    "def Name(Name, Country = \"new york\"):\n",
    "    print (Name + \" is from \" + Country)\n",
    "    \n",
    "Name(\"kamran\")"
   ]
  },
  {
   "cell_type": "code",
   "execution_count": null,
   "metadata": {},
   "outputs": [],
   "source": []
  }
 ],
 "metadata": {
  "kernelspec": {
   "display_name": "Python 3",
   "language": "python",
   "name": "python3"
  },
  "language_info": {
   "codemirror_mode": {
    "name": "ipython",
    "version": 3
   },
   "file_extension": ".py",
   "mimetype": "text/x-python",
   "name": "python",
   "nbconvert_exporter": "python",
   "pygments_lexer": "ipython3",
   "version": "3.6.5"
  }
 },
 "nbformat": 4,
 "nbformat_minor": 2
}
