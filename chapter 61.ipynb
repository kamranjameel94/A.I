{
 "cells": [
  {
   "cell_type": "code",
   "execution_count": 1,
   "metadata": {},
   "outputs": [
    {
     "name": "stdout",
     "output_type": "stream",
     "text": [
      "Information: {'name': 'kamran siddiqui', 'fees': 40000}\n"
     ]
    }
   ],
   "source": [
    "class Student: \n",
    "\tdef __init__(self): \n",
    "\t\tself.name = 'kamran siddiqui'\n",
    "\t\tself.fees = 40000\n",
    "\n",
    "\tdef show(self): \n",
    "\t\tprint (self.name)\n",
    "\t\tprint (self.fees)\n",
    "\n",
    "e1 = Student() \n",
    "print (\"Information:\", vars(e1))"
   ]
  },
  {
   "cell_type": "code",
   "execution_count": null,
   "metadata": {},
   "outputs": [],
   "source": []
  }
 ],
 "metadata": {
  "kernelspec": {
   "display_name": "Python 3",
   "language": "python",
   "name": "python3"
  },
  "language_info": {
   "codemirror_mode": {
    "name": "ipython",
    "version": 3
   },
   "file_extension": ".py",
   "mimetype": "text/x-python",
   "name": "python",
   "nbconvert_exporter": "python",
   "pygments_lexer": "ipython3",
   "version": "3.6.5"
  }
 },
 "nbformat": 4,
 "nbformat_minor": 2
}
