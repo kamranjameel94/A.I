{
 "cells": [
  {
   "cell_type": "code",
   "execution_count": 1,
   "metadata": {},
   "outputs": [
    {
     "name": "stdout",
     "output_type": "stream",
     "text": [
      "{'name': 'Kamran', 'age': 23}\n",
      "{'name': 'Kamran', 'age': 23, 'Location': 'islamabad'}\n"
     ]
    }
   ],
   "source": [
    "Student = {'name':'Kamran', 'age': 23}\n",
    "\n",
    "Student\n",
    "#Output: \n",
    "print(Student)\n",
    "\n",
    "# add item\n",
    "Student['Location'] = 'islamabad'  \n",
    "\n",
    "# Output: \n",
    "print(Student)"
   ]
  },
  {
   "cell_type": "code",
   "execution_count": null,
   "metadata": {},
   "outputs": [],
   "source": []
  }
 ],
 "metadata": {
  "kernelspec": {
   "display_name": "Python 3",
   "language": "python",
   "name": "python3"
  },
  "language_info": {
   "codemirror_mode": {
    "name": "ipython",
    "version": 3
   },
   "file_extension": ".py",
   "mimetype": "text/x-python",
   "name": "python",
   "nbconvert_exporter": "python",
   "pygments_lexer": "ipython3",
   "version": "3.6.5"
  }
 },
 "nbformat": 4,
 "nbformat_minor": 2
}
