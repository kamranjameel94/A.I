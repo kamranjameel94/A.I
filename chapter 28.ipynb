{
 "cells": [
  {
   "cell_type": "code",
   "execution_count": 1,
   "metadata": {},
   "outputs": [
    {
     "name": "stdout",
     "output_type": "stream",
     "text": [
      "Integer Dictionary:\n",
      "{1: 'ireland', 2: 'new zealand', 3: 'baghdad', 4: 'spain'}\n",
      "String Dictionary\n",
      "{'Country': 'spain'}\n"
     ]
    }
   ],
   "source": [
    "print(\"Integer Dictionary:\")\n",
    "IntDict = {1: \"ireland\", 2: \"new zealand\", 3: \"baghdad\", 4: \"spain\"} \n",
    "print(IntDict)\n",
    "\n",
    "print(\"String Dictionary\")\n",
    "St1Dict = {\"Country\": \"spain\"} \n",
    "print(St1Dict)"
   ]
  },
  {
   "cell_type": "code",
   "execution_count": null,
   "metadata": {},
   "outputs": [],
   "source": []
  }
 ],
 "metadata": {
  "kernelspec": {
   "display_name": "Python 3",
   "language": "python",
   "name": "python3"
  },
  "language_info": {
   "codemirror_mode": {
    "name": "ipython",
    "version": 3
   },
   "file_extension": ".py",
   "mimetype": "text/x-python",
   "name": "python",
   "nbconvert_exporter": "python",
   "pygments_lexer": "ipython3",
   "version": "3.6.5"
  }
 },
 "nbformat": 4,
 "nbformat_minor": 2
}
