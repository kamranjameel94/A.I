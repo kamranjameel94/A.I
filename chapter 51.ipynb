{
 "cells": [
  {
   "cell_type": "code",
   "execution_count": 1,
   "metadata": {},
   "outputs": [
    {
     "name": "stdout",
     "output_type": "stream",
     "text": [
      "The count is: 0\n",
      "The count is: 2\n",
      "The count is: 4\n",
      "The count is: 6\n",
      "The count is: 8\n",
      "The count is: 10\n",
      "The count is: 12\n",
      "The count is: 14\n",
      "The End!\n"
     ]
    }
   ],
   "source": [
    "count = 0\n",
    "while (count < 15):\n",
    "   print ('The count is:', count)\n",
    "   count = count + 2\n",
    "\n",
    "print (\"The End!\")"
   ]
  },
  {
   "cell_type": "code",
   "execution_count": null,
   "metadata": {},
   "outputs": [],
   "source": []
  }
 ],
 "metadata": {
  "kernelspec": {
   "display_name": "Python 3",
   "language": "python",
   "name": "python3"
  },
  "language_info": {
   "codemirror_mode": {
    "name": "ipython",
    "version": 3
   },
   "file_extension": ".py",
   "mimetype": "text/x-python",
   "name": "python",
   "nbconvert_exporter": "python",
   "pygments_lexer": "ipython3",
   "version": "3.6.5"
  }
 },
 "nbformat": 4,
 "nbformat_minor": 2
}
