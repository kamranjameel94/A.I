{
 "cells": [
  {
   "cell_type": "code",
   "execution_count": 1,
   "metadata": {},
   "outputs": [
    {
     "name": "stdout",
     "output_type": "stream",
     "text": [
      "{'First name': 'muhammad', 'Middle name': 'kamran', 'Last name': 'jameel', 'Address': 'orangi.'}\n"
     ]
    }
   ],
   "source": [
    "customers = {\n",
    "  0:  {\n",
    "         \"First name\":\"muhammad\",\n",
    "         \"Middle name\": \"kamran\",\n",
    "         \"Last name\": \"jameel\",\n",
    "         \"Address\": \"orangi.\", \n",
    "    },\n",
    " 1:  {\n",
    "        \"First Name\":\"kashif\",\n",
    "        \"Last Name\": \"rajput\",\n",
    "        \"Address\": \"numaish\", \n",
    "    },\n",
    " 2:   { \n",
    "        \"First Name\":\"obaid\",\n",
    "        \"Last Name\": \"ishaaq\",\n",
    "        \"Address\": \"F.B area\", \n",
    "    },\n",
    "}\n",
    "print(customers[0])"
   ]
  },
  {
   "cell_type": "code",
   "execution_count": null,
   "metadata": {},
   "outputs": [],
   "source": []
  }
 ],
 "metadata": {
  "kernelspec": {
   "display_name": "Python 3",
   "language": "python",
   "name": "python3"
  },
  "language_info": {
   "codemirror_mode": {
    "name": "ipython",
    "version": 3
   },
   "file_extension": ".py",
   "mimetype": "text/x-python",
   "name": "python",
   "nbconvert_exporter": "python",
   "pygments_lexer": "ipython3",
   "version": "3.6.5"
  }
 },
 "nbformat": 4,
 "nbformat_minor": 2
}
