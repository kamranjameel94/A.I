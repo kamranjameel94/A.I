{
 "cells": [
  {
   "cell_type": "code",
   "execution_count": 1,
   "metadata": {},
   "outputs": [
    {
     "name": "stdout",
     "output_type": "stream",
     "text": [
      "yes\n"
     ]
    }
   ],
   "source": [
    "details = {\n",
    "  \"nickname\": \"kami\",\n",
    "  \"married\": \"no\",\n",
    "  \"careers\": [\"graphic designer\", \"Software Engineer\", \"manager\"],\n",
    "}\n",
    "if \"graphic designer\" in details[\"careers\"]:\n",
    "  print(\"yes\")\n",
    "else:\n",
    "  print(\"no\")"
   ]
  },
  {
   "cell_type": "code",
   "execution_count": 2,
   "metadata": {},
   "outputs": [
    {
     "name": "stdout",
     "output_type": "stream",
     "text": [
      "no\n"
     ]
    }
   ],
   "source": [
    "details = {\n",
    "  \"nickname\": \"kami\",\n",
    "  \"married\": \"yes\",\n",
    "  \"careers\": [\"graphic designer\", \"Web developer\", \"Singer\", \"Rider\"],\n",
    "}\n",
    "if details[\"married\"] == \"yes\" and \"Web Developer\" in details[\"careers\"]:\n",
    "    print(\"Uh-Yes!\")\n",
    "else:\n",
    "    print(\"no\")"
   ]
  },
  {
   "cell_type": "code",
   "execution_count": null,
   "metadata": {},
   "outputs": [],
   "source": []
  }
 ],
 "metadata": {
  "kernelspec": {
   "display_name": "Python 3",
   "language": "python",
   "name": "python3"
  },
  "language_info": {
   "codemirror_mode": {
    "name": "ipython",
    "version": 3
   },
   "file_extension": ".py",
   "mimetype": "text/x-python",
   "name": "python",
   "nbconvert_exporter": "python",
   "pygments_lexer": "ipython3",
   "version": "3.6.5"
  }
 },
 "nbformat": 4,
 "nbformat_minor": 2
}
