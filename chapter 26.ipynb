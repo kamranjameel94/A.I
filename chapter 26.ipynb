{
 "cells": [
  {
   "cell_type": "code",
   "execution_count": 2,
   "metadata": {},
   "outputs": [
    {
     "name": "stdout",
     "output_type": "stream",
     "text": [
      "Name: Kamran Jameel\n",
      "ID: 05-2015\n",
      "Age: 23\n",
      "DOB: 17/08/1994\n",
      "Location: Karachi\n"
     ]
    }
   ],
   "source": [
    "kamrandata = {\n",
    "  \"Name:\": \"Kamran Jameel\",\n",
    "  \"ID:\": \"05-2015\",\n",
    "  \"Age:\": \"23\",\n",
    "  \"DOB:\": \"17/08/1994\",\n",
    "  \"Location:\": \"Karachi\"\n",
    "}\n",
    "\n",
    "for a,b in kamrandata.items():\n",
    "    print(a,b)"
   ]
  },
  {
   "cell_type": "code",
   "execution_count": null,
   "metadata": {},
   "outputs": [],
   "source": []
  }
 ],
 "metadata": {
  "kernelspec": {
   "display_name": "Python 3",
   "language": "python",
   "name": "python3"
  },
  "language_info": {
   "codemirror_mode": {
    "name": "ipython",
    "version": 3
   },
   "file_extension": ".py",
   "mimetype": "text/x-python",
   "name": "python",
   "nbconvert_exporter": "python",
   "pygments_lexer": "ipython3",
   "version": "3.6.5"
  }
 },
 "nbformat": 4,
 "nbformat_minor": 2
}
